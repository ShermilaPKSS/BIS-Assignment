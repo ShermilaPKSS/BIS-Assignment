{
 "cells": [
  {
   "cell_type": "code",
   "execution_count": null,
   "id": "743ffcae-6ad6-4e38-834d-98a1fdfcb051",
   "metadata": {},
   "outputs": [],
   "source": [
    "import pandas as pd"
   ]
  },
  {
   "cell_type": "code",
   "execution_count": null,
   "id": "0cd5aa1d-0e30-4c68-93db-3f396e790b2a",
   "metadata": {},
   "outputs": [],
   "source": [
    "# Load the dataset\n",
    "df = pd.read_csv(r\"C:\\Users\\Sachini\\Downloads\\bank+marketing\\bank-additional\\bank-additional\\bank-additional.csv\", sep=';')"
   ]
  },
  {
   "cell_type": "code",
   "execution_count": null,
   "id": "efc12fec-b94f-4ddd-a86f-617942843568",
   "metadata": {},
   "outputs": [],
   "source": [
    "# Display basic info\n",
    "print(\"Dataset Overview:\\n\", df.info())"
   ]
  },
  {
   "cell_type": "code",
   "execution_count": null,
   "id": "1bcbf42e-49f4-4738-8539-d2766179ecd0",
   "metadata": {},
   "outputs": [],
   "source": [
    "print(\"\\nMissing Values (including 'unknown'):\\n\")\n",
    "for col in df.select_dtypes(include=['object']).columns:\n",
    "    print(f\"{col}: {df[col].isin(['unknown']).sum()} missing values\")"
   ]
  },
  {
   "cell_type": "code",
   "execution_count": null,
   "id": "f14d0ef4-1d3e-4bac-b826-fb11dbf24d72",
   "metadata": {},
   "outputs": [],
   "source": [
    "df"
   ]
  },
  {
   "cell_type": "code",
   "execution_count": null,
   "id": "ca153cde-0a7d-42b6-b170-1b9cd13c2ef6",
   "metadata": {},
   "outputs": [],
   "source": [
    "df.replace(\"unknown\", \"missing\", inplace=True)  # Rename \"unknown\" to \"missing\""
   ]
  },
  {
   "cell_type": "code",
   "execution_count": null,
   "id": "8d991d58-683b-4bdd-a568-3f2f650114d4",
   "metadata": {},
   "outputs": [],
   "source": [
    "df"
   ]
  },
  {
   "cell_type": "code",
   "execution_count": null,
   "id": "be0aeb72-580f-4bf2-b2e2-60e27f49e328",
   "metadata": {},
   "outputs": [],
   "source": [
    "# Summary statistics\n",
    "print(\"\\nSummary Statistics:\\n\", df.describe())"
   ]
  },
  {
   "cell_type": "code",
   "execution_count": null,
   "id": "d818d33c-8947-41d1-a307-4fd917261632",
   "metadata": {},
   "outputs": [],
   "source": [
    "import pandas as pd\n",
    "import matplotlib.pyplot as plt\n",
    "import seaborn as sns\n",
    "from IPython.display import Image\n",
    "\n",
    "# Identify categorical and numerical columns\n",
    "categorical_cols = df.select_dtypes(include=['object']).columns\n",
    "numerical_cols = df.select_dtypes(include=['int', 'float']).columns\n",
    "\n",
    "# Generate summary statistics\n",
    "numerical_summary = df[numerical_cols].describe().round(2)\n",
    "categorical_summary = df[categorical_cols].describe().T  # Transposed for better readability\n",
    "\n",
    "# Function to create and save table as an image with styling\n",
    "def save_table_as_image(summary_df, filename, title):\n",
    "    fig, ax = plt.subplots(figsize=(15, min(10, len(summary_df) * 0.7)))  # Auto-adjust height\n",
    "\n",
    "    # Hide axes\n",
    "    ax.axis('tight')\n",
    "    ax.axis('off')\n",
    "\n",
    "    # Create the table with a styled background\n",
    "    table = ax.table(cellText=summary_df.values, colLabels=summary_df.columns, \n",
    "                     rowLabels=summary_df.index, loc='center', cellLoc='center', colLoc='center',\n",
    "                     colColours=[\"#f4f4f4\"] * len(summary_df.columns),  # Light gray header background\n",
    "                     rowColours=[\"#e6e6e6\"] * len(summary_df))  # Alternate row shading\n",
    "\n",
    "    # Adjust table font size\n",
    "    table.auto_set_font_size(False)\n",
    "    table.set_fontsize(10)\n",
    "\n",
    "    # Set the title\n",
    "    ax.set_title(title, fontsize=12, fontweight=\"bold\", pad=10)\n",
    "\n",
    "    # Save the table as a PNG image\n",
    "    plt.savefig(filename, bbox_inches='tight', dpi=300)\n",
    "    plt.close()\n",
    "\n",
    "# Save numerical summary table\n",
    "save_table_as_image(numerical_summary, 'numerical_summary.png', \"Numerical Summary Statistics\")\n",
    "\n",
    "# Save categorical summary table\n",
    "save_table_as_image(categorical_summary, 'categorical_summary.png', \"Categorical Summary Statistics\")\n",
    "\n",
    "# Display both tables\n",
    "display(Image('numerical_summary.png'))\n",
    "display(Image('categorical_summary.png'))"
   ]
  },
  {
   "cell_type": "code",
   "execution_count": null,
   "id": "96f64577-f967-46f2-af6c-68b9b77fcb5a",
   "metadata": {},
   "outputs": [],
   "source": [
    "# Step 1: Create a mapping dictionary for the 'education' column\n",
    "education_mapping = {\n",
    "    'basic.4y': 'basic',\n",
    "    'basic.6y': 'basic',\n",
    "    'basic.9y': 'basic'\n",
    "}\n",
    "\n",
    "# Step 2: Apply the mapping using the replace() method\n",
    "df['education'] = df['education'].replace(education_mapping)\n",
    "\n",
    "# Step 3: Check the updated unique values in 'education' column\n",
    "print(df['education'].unique())"
   ]
  },
  {
   "cell_type": "code",
   "execution_count": null,
   "id": "9fe62c5d-cc2c-40cd-8b5b-0b13005c468c",
   "metadata": {},
   "outputs": [],
   "source": [
    "plt.figure(figsize=(12, 5))\n",
    "sns.countplot(x='education', hue='y', data=df, order=df['education'].value_counts().index)\n",
    "plt.xticks(rotation=90)\n",
    "plt.title('Subscription Rate by Education Level')\n",
    "\n",
    "# Save the plot as an image\n",
    "plt.savefig('subscription_rate_by_education.png', bbox_inches='tight', dpi=300)\n",
    "\n",
    "# Display the plot\n",
    "plt.show()"
   ]
  },
  {
   "cell_type": "code",
   "execution_count": null,
   "id": "a3398b0b-e4a1-4fdb-953f-f2c7c7d4d7a6",
   "metadata": {},
   "outputs": [],
   "source": [
    "# Set the figure size\n",
    "plt.figure(figsize=(12, 5))\n",
    "\n",
    "# Plot histogram\n",
    "plt.subplot(1, 2, 1)\n",
    "df['age'].hist(bins=30)\n",
    "plt.xlim(0, 100)  # Set the range of the x-axis to 0-100\n",
    "plt.title('Age Distribution')\n",
    "\n",
    "# Plot boxplot\n",
    "plt.subplot(1, 2, 2)\n",
    "sns.boxplot(x='y', y='age', data=df)\n",
    "plt.ylim(0, 100)  # Set the range of the y-axis to 0-100\n",
    "plt.title('Age by Subscription Status')\n",
    "\n",
    "# Save the figure\n",
    "plt.tight_layout()\n",
    "plt.savefig('age_distribution_and_boxplot.png', bbox_inches='tight', dpi=300)\n",
    "\n",
    "# Show the plot\n",
    "plt.show()"
   ]
  },
  {
   "cell_type": "code",
   "execution_count": null,
   "id": "85b27c63-4d5b-440e-8a5f-4bc720a1d0d8",
   "metadata": {},
   "outputs": [],
   "source": [
    "# Create figure\n",
    "plt.figure(figsize=(10, 6))\n",
    "\n",
    "# Scatter plot with regression line (trendline)\n",
    "sns.regplot(x=df['duration'], y=df['campaign'], scatter=True, line_kws={\"color\": \"red\"})\n",
    "\n",
    "# Add title and labels\n",
    "plt.title('Scatter Plot of Duration vs. Campaign with Trendline')\n",
    "plt.xlabel('Duration')\n",
    "plt.ylabel('Campaign')\n",
    "\n",
    "# Save the figure\n",
    "plt.savefig('scatter_duration_vs_campaign_trendline.png', dpi=300, bbox_inches='tight')\n",
    "\n",
    "# Show the plot\n",
    "plt.show()"
   ]
  },
  {
   "cell_type": "code",
   "execution_count": null,
   "id": "8915ac23-7160-493e-8de5-bb52bfc2faaa",
   "metadata": {},
   "outputs": [],
   "source": [
    "# Filter only subscribed clients\n",
    "subscribed_clients = df[df[\"y\"] == \"yes\"][\"poutcome\"].value_counts()\n",
    "\n",
    "# Plot pie chart\n",
    "plt.figure(figsize=(6,6))\n",
    "subscribed_clients.plot.pie(autopct=\"%1.1f%%\", colormap=\"viridis\", startangle=90)\n",
    "plt.ylabel(\"\")\n",
    "plt.title(\"Poutcome Distribution Among Subscribed Clients\")\n",
    "\n",
    "# Save the figure\n",
    "plt.savefig(\"poutcome_pie_chart.png\")\n",
    "plt.show()"
   ]
  },
  {
   "cell_type": "code",
   "execution_count": null,
   "id": "5b96888e-4adb-4e84-89c1-e36ae311c226",
   "metadata": {},
   "outputs": [],
   "source": []
  }
 ],
 "metadata": {
  "kernelspec": {
   "display_name": "Python 3 (ipykernel)",
   "language": "python",
   "name": "python3"
  },
  "language_info": {
   "codemirror_mode": {
    "name": "ipython",
    "version": 3
   },
   "file_extension": ".py",
   "mimetype": "text/x-python",
   "name": "python",
   "nbconvert_exporter": "python",
   "pygments_lexer": "ipython3",
   "version": "3.11.7"
  }
 },
 "nbformat": 4,
 "nbformat_minor": 5
}
